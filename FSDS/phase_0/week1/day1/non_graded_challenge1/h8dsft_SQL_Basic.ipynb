{
  "nbformat": 4,
  "nbformat_minor": 0,
  "metadata": {
    "colab": {
      "provenance": []
    },
    "kernelspec": {
      "name": "python3",
      "display_name": "Python 3"
    },
    "language_info": {
      "name": "python"
    }
  },
  "cells": [
    {
      "cell_type": "markdown",
      "source": [
        "# **Non Graded Challenge 1 - SQL (Basic)**\n",
        "\n",
        "Non-Graded Assignment ini dibuat guna mengevaluasi pembelajaran pada Hacktiv8 Data Science Fulltime Program khususnya pada konsep SQL\n",
        "\n",
        "---\n",
        "\n",
        "Langkah - langkah sebelum mengerjakan :\n",
        "\n",
        "- Gunakan dataset dari URL [ini](https://github.com/ardhiraka/FSDS_Guidelines/blob/master/p0/w2/assignments/NG9%20-%20SQL.md#non-graded-challenge-9).\n",
        "- Buatlah table teachers dan courses. \n",
        "- Masukkan semua data pada masing-masing table.\n",
        "- Table teachers akan memiliki 15 data.\n",
        "- Table courses akan memiliki 20 data.\n",
        "  \n",
        "Soal : Carilah dosen yang memiliki gaji tertinggi per masing-masing mata kuliah. Tampilkan semua atribut dosen dan semua atribut mata kuliahnya. Urutkan hasilnya berdasarkan nama mata kuliahnya secara ascending (A-Z).\n",
        "\n",
        "\n",
        "---"
      ],
      "metadata": {
        "id": "rwBiI_HPdmOu"
      }
    },
    {
      "cell_type": "markdown",
      "source": [
        "\n",
        "#**ANSWER**\n",
        "\n",
        "**A. Creat Table**"
      ],
      "metadata": {
        "id": "xfEMtpzMlS5I"
      }
    },
    {
      "cell_type": "markdown",
      "source": [
        "**A1.Creat table Teacher**"
      ],
      "metadata": {
        "id": "tsE9wxqAl75M"
      }
    },
    {
      "cell_type": "code",
      "source": [
        "CREATE TABLE teachers (\n",
        "    id INT NOT NULL PRIMARY KEY AUTO_INCREMENT,\n",
        "    first_name varchar(25) NOT NULL,\n",
        "    last_name varchar(50),\n",
        "    school varchar(50) NOT NULL,\n",
        "    hire_date date,\n",
        "    salary numeric\n",
        "    );"
      ],
      "metadata": {
        "id": "MEcGdfJklV1W"
      },
      "execution_count": null,
      "outputs": []
    },
    {
      "cell_type": "markdown",
      "source": [
        "**A2 Creat table Courses**"
      ],
      "metadata": {
        "id": "VwJnpdnumBg3"
      }
    },
    {
      "cell_type": "code",
      "source": [
        "CREATE TABLE courses (\n",
        "    id INT NOT NULL PRIMARY KEY AUTO_INCREMENT,\n",
        "    name varchar(20),\n",
        "    teachers_id INT,\n",
        "    total_students INT\n",
        "    );"
      ],
      "metadata": {
        "id": "nDpVFU9UmFqR"
      },
      "execution_count": null,
      "outputs": []
    },
    {
      "cell_type": "markdown",
      "source": [
        "**B. Insert Data**\n",
        "\n",
        "**B1. insert to teacher table with param id**"
      ],
      "metadata": {
        "id": "bsmFUmLumMUd"
      }
    },
    {
      "cell_type": "code",
      "source": [
        "INSERT INTO teachers (id,first_name, last_name, school, hire_date, salary)\n",
        "    VALUES (1,'Janet', 'Smith', 'MIT', '2011-10-30', 36200),\n",
        "           (2,'Lee', 'Reynolds', 'MIT', '1993-05-22', 65000),\n",
        "           (3,'Samuel', 'Cole', 'Cambridge University', '2005-08-01', 43500),\n",
        "           (4,'Samantha', 'Bush', 'Cambridge University', '2011-10-30', 36200),\n",
        "           (5,'Betty', 'Diaz', 'Cambridge University', '2005-08-30', 43500),\n",
        "           (6,'Kathleen', 'Roush', 'MIT', '2010-10-22', 38500),\n",
        "           (7,'James', 'Diaz', 'Harvard University', '2003-07-18', 61000),\n",
        "           (8,'Zack', 'Smith', 'Harvard University', '2000-12-29', 55500),\n",
        "           (9,'Luis', 'Gonzales', 'Standford University', '2002-12-01', 50000),\n",
        "           (10,'Frank', 'Abbers', 'Standford University', '1999-01-30', 66000);"
      ],
      "metadata": {
        "id": "hARcn6B7nVCm"
      },
      "execution_count": null,
      "outputs": []
    },
    {
      "cell_type": "markdown",
      "source": [
        "**B2. insert to teacher table without param id**"
      ],
      "metadata": {
        "id": "EH9bR0g3ncLG"
      }
    },
    {
      "cell_type": "code",
      "source": [
        "INSERT INTO teachers (first_name, last_name, school, hire_date, salary)\n",
        "    VALUES ('Samuel', 'Abbers', 'Standford University', '2006-01-30', 32000),\n",
        "           ('Jessica', 'Abbers', 'Standford University', '2005-01-30', 33000),\n",
        "           ('Tom', 'Massi', 'Harvard University', '1999-09-09', 39500),\n",
        "           ('Esteban', 'Brown', 'MIT', '2007-01-30', 36000),\n",
        "           ('Carlos', 'Alonso', 'Standford University', '2001-01-30', 44000);"
      ],
      "metadata": {
        "id": "4MsVMu_snlMH"
      },
      "execution_count": null,
      "outputs": []
    },
    {
      "cell_type": "markdown",
      "source": [
        "**B3. insert to table course**"
      ],
      "metadata": {
        "id": "15jigpMWnp7u"
      }
    },
    {
      "cell_type": "code",
      "source": [
        "INSERT INTO courses (name, teachers_id, total_students)\n",
        "    VALUES  ('Calculus', 2, 20),\n",
        "            ('Physics', 2, 10),\n",
        "            ('Calculus', 1, 30),\n",
        "            ('Computer Science', 1, 20),\n",
        "            ('Politic', 13, 15),\n",
        "            ('Algebra', 2, 10),\n",
        "            ('Algebra', 13, 30),\n",
        "            ('Computer Science', 10, 35),\n",
        "            ('Life Science', 11, 20),\n",
        "            ('Chemistry', 9, 22),\n",
        "            ('Chemistry', 8, 16),\n",
        "            ('Calculus', 5, 19),\n",
        "            ('Politic', 4, 17),\n",
        "            ('Biology', 6, 22),\n",
        "            ('Physics', 3, 29),\n",
        "            ('Biology', 8, 28),\n",
        "            ('Calculus', 12, 34),\n",
        "            ('Physics', 13, 34),\n",
        "            ('Biology', 14, 25),\n",
        "            ('Calculus', 15, 20);"
      ],
      "metadata": {
        "id": "3xkK_NAvn8cs"
      },
      "execution_count": null,
      "outputs": []
    },
    {
      "cell_type": "markdown",
      "source": [
        "**C. Cases**\n",
        "- Carilah dosen yang memiliki gaji tertinggi per masing-masing mata kuliah.\n",
        "- Tampilkan semua atribut dosen dan semua atribut mata kuliahnya\n",
        "- Urutkan hasilnya berdasarkan nama mata kuliahnya secara ascending (A-Z)."
      ],
      "metadata": {
        "id": "m3P3cBUcoL-c"
      }
    },
    {
      "cell_type": "markdown",
      "source": [
        "Query mencari dosen yang memiliki gaji tertinggi per masing masing makul"
      ],
      "metadata": {
        "id": "MHtCWn8lqIGM"
      }
    },
    {
      "cell_type": "code",
      "source": [
        "SELECT *\n",
        " FROM teachers join courses on teachers.id = courses.teachers_id\n",
        "ORDER by courses.name ASC, teachers.salary DESC;"
      ],
      "metadata": {
        "id": "4MeNQ0I5oqFG"
      },
      "execution_count": null,
      "outputs": []
    },
    {
      "cell_type": "markdown",
      "source": [
        "Query  select semua atribut dosen dan matakuliah"
      ],
      "metadata": {
        "id": "Vqfh4VSno-yt"
      }
    },
    {
      "cell_type": "code",
      "source": [
        "SELECT *\n",
        " FROM Teachers, Course;"
      ],
      "metadata": {
        "id": "B0wCr3_qpK6M"
      },
      "execution_count": null,
      "outputs": []
    },
    {
      "cell_type": "markdown",
      "source": [
        "Query join tabel dosen dan matakuliah"
      ],
      "metadata": {
        "id": "gXJd5lW5pT0-"
      }
    },
    {
      "cell_type": "code",
      "source": [
        "SELECT * \n",
        "FROM teachers join Course;"
      ],
      "metadata": {
        "id": "l0dChgR8pmyq"
      },
      "execution_count": null,
      "outputs": []
    },
    {
      "cell_type": "markdown",
      "source": [
        "Query mengurutkan hasil berdasarkan nama matakuliah secara ascending"
      ],
      "metadata": {
        "id": "tRfUNIXVpqJF"
      }
    },
    {
      "cell_type": "code",
      "source": [
        "SELECT *\n",
        " FROM teachers join courses on teachers.id = courses.teachers_id\n",
        "ORDER by courses.name ASC;"
      ],
      "metadata": {
        "id": "VuDYMeHHpygZ"
      },
      "execution_count": null,
      "outputs": []
    },
    {
      "cell_type": "markdown",
      "source": [
        "Hasil QUery pada case menghasilkan seperti gambar berikut\n",
        "\n",
        "![ngc1.PNG](data:image/png;base64,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)\n",
        "\n"
      ],
      "metadata": {
        "id": "4L9accegqQar"
      }
    }
  ]
}